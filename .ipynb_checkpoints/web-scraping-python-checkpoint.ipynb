{
 "cells": [
  {
   "cell_type": "markdown",
   "id": "58ecf14a",
   "metadata": {},
   "source": [
    "# Scraping Github Topics Repositories"
   ]
  },
  {
   "cell_type": "code",
   "execution_count": 3,
   "id": "62774cb5",
   "metadata": {},
   "outputs": [],
   "source": [
    "#Scraping Github Topics Repositories"
   ]
  },
  {
   "cell_type": "code",
   "execution_count": 71,
   "id": "c0230c26",
   "metadata": {},
   "outputs": [
    {
     "name": "stdout",
     "output_type": "stream",
     "text": [
      "\r\n",
      "\u001b[1m[\u001b[0m\u001b[34;49mnotice\u001b[0m\u001b[1;39;49m]\u001b[0m\u001b[39;49m A new release of pip is available: \u001b[0m\u001b[31;49m23.0\u001b[0m\u001b[39;49m -> \u001b[0m\u001b[32;49m23.1.2\u001b[0m\r\n",
      "\u001b[1m[\u001b[0m\u001b[34;49mnotice\u001b[0m\u001b[1;39;49m]\u001b[0m\u001b[39;49m To update, run: \u001b[0m\u001b[32;49mpython3.10 -m pip install --upgrade pip\u001b[0m\r\n"
     ]
    }
   ],
   "source": [
    "!pip3 install jovian --upgrade --quiet"
   ]
  },
  {
   "cell_type": "markdown",
   "id": "9372e567",
   "metadata": {},
   "source": [
    " ### Pick a website and describe your objective  \n",
    "    \n",
    "  - Identify the information you'd like to scrape from the site. Decide the format of the output CSV file.\n",
    "  - Summarize your project idea and outline your strategy in a Jupyter notebook."
   ]
  },
  {
   "cell_type": "markdown",
   "id": "a87d141e",
   "metadata": {},
   "source": [
    "#### Use Requests Library to download web pages"
   ]
  },
  {
   "cell_type": "code",
   "execution_count": 72,
   "id": "1cfbf8f8",
   "metadata": {},
   "outputs": [
    {
     "name": "stdout",
     "output_type": "stream",
     "text": [
      "\r\n",
      "\u001b[1m[\u001b[0m\u001b[34;49mnotice\u001b[0m\u001b[1;39;49m]\u001b[0m\u001b[39;49m A new release of pip is available: \u001b[0m\u001b[31;49m23.0\u001b[0m\u001b[39;49m -> \u001b[0m\u001b[32;49m23.1.2\u001b[0m\r\n",
      "\u001b[1m[\u001b[0m\u001b[34;49mnotice\u001b[0m\u001b[1;39;49m]\u001b[0m\u001b[39;49m To update, run: \u001b[0m\u001b[32;49mpython3.10 -m pip install --upgrade pip\u001b[0m\r\n"
     ]
    }
   ],
   "source": [
    "!pip3 install requests --upgrade --quiet"
   ]
  },
  {
   "cell_type": "code",
   "execution_count": 73,
   "id": "744b4b45",
   "metadata": {},
   "outputs": [],
   "source": [
    "import requests"
   ]
  },
  {
   "cell_type": "code",
   "execution_count": 85,
   "id": "0c62487d",
   "metadata": {},
   "outputs": [],
   "source": [
    "topics_url = \"https://github.com/topics\""
   ]
  },
  {
   "cell_type": "code",
   "execution_count": 86,
   "id": "0fab9ba0",
   "metadata": {},
   "outputs": [],
   "source": [
    "response = requests.get(topics_url)"
   ]
  },
  {
   "cell_type": "code",
   "execution_count": 87,
   "id": "23df2070",
   "metadata": {},
   "outputs": [
    {
     "data": {
      "text/plain": [
       "200"
      ]
     },
     "execution_count": 87,
     "metadata": {},
     "output_type": "execute_result"
    }
   ],
   "source": [
    "response.status_code"
   ]
  },
  {
   "cell_type": "code",
   "execution_count": 88,
   "id": "74c75228",
   "metadata": {},
   "outputs": [
    {
     "data": {
      "text/plain": [
       "155452"
      ]
     },
     "execution_count": 88,
     "metadata": {},
     "output_type": "execute_result"
    }
   ],
   "source": [
    "len(response.text)"
   ]
  },
  {
   "cell_type": "code",
   "execution_count": 89,
   "id": "bcd1a04f",
   "metadata": {},
   "outputs": [],
   "source": [
    "page_contents = response.text"
   ]
  },
  {
   "cell_type": "code",
   "execution_count": 90,
   "id": "11d3924e",
   "metadata": {},
   "outputs": [],
   "source": [
    "with open('webpage.html', 'w') as f:\n",
    "    f.write(page_contents)"
   ]
  },
  {
   "cell_type": "code",
   "execution_count": 91,
   "id": "a03fb72e",
   "metadata": {},
   "outputs": [],
   "source": [
    "### Use Beautiful Soup to extract information"
   ]
  },
  {
   "cell_type": "code",
   "execution_count": 92,
   "id": "3b83ce3a",
   "metadata": {},
   "outputs": [
    {
     "name": "stdout",
     "output_type": "stream",
     "text": [
      "\r\n",
      "\u001b[1m[\u001b[0m\u001b[34;49mnotice\u001b[0m\u001b[1;39;49m]\u001b[0m\u001b[39;49m A new release of pip is available: \u001b[0m\u001b[31;49m23.0\u001b[0m\u001b[39;49m -> \u001b[0m\u001b[32;49m23.1.2\u001b[0m\r\n",
      "\u001b[1m[\u001b[0m\u001b[34;49mnotice\u001b[0m\u001b[1;39;49m]\u001b[0m\u001b[39;49m To update, run: \u001b[0m\u001b[32;49mpython3.10 -m pip install --upgrade pip\u001b[0m\r\n"
     ]
    }
   ],
   "source": [
    "!pip3 install beautifulsoup4 --upgrade --quiet"
   ]
  },
  {
   "cell_type": "code",
   "execution_count": 93,
   "id": "4df50c84",
   "metadata": {},
   "outputs": [],
   "source": [
    "from bs4 import BeautifulSoup"
   ]
  },
  {
   "cell_type": "code",
   "execution_count": 157,
   "id": "6a1cdd3d",
   "metadata": {},
   "outputs": [],
   "source": [
    "doc = BeautifulSoup(page_contents, 'html.parser')"
   ]
  },
  {
   "cell_type": "code",
   "execution_count": 158,
   "id": "31fd1c64",
   "metadata": {},
   "outputs": [
    {
     "data": {
      "text/plain": [
       "bs4.BeautifulSoup"
      ]
     },
     "execution_count": 158,
     "metadata": {},
     "output_type": "execute_result"
    }
   ],
   "source": [
    "type(doc)"
   ]
  },
  {
   "cell_type": "code",
   "execution_count": 110,
   "id": "c2d4653c",
   "metadata": {},
   "outputs": [
    {
     "name": "stdout",
     "output_type": "stream",
     "text": [
      "\r\n",
      "\u001b[1m[\u001b[0m\u001b[34;49mnotice\u001b[0m\u001b[1;39;49m]\u001b[0m\u001b[39;49m A new release of pip is available: \u001b[0m\u001b[31;49m23.0\u001b[0m\u001b[39;49m -> \u001b[0m\u001b[32;49m23.1.2\u001b[0m\r\n",
      "\u001b[1m[\u001b[0m\u001b[34;49mnotice\u001b[0m\u001b[1;39;49m]\u001b[0m\u001b[39;49m To update, run: \u001b[0m\u001b[32;49mpython3.10 -m pip install --upgrade pip\u001b[0m\r\n"
     ]
    }
   ],
   "source": [
    "!pip3 install pandas --quiet"
   ]
  },
  {
   "cell_type": "code",
   "execution_count": 159,
   "id": "720e11bb",
   "metadata": {},
   "outputs": [],
   "source": [
    "import pandas as pd"
   ]
  },
  {
   "cell_type": "code",
   "execution_count": 160,
   "id": "710e3573",
   "metadata": {},
   "outputs": [],
   "source": [
    "def parse_star_count(stars_str):\n",
    "    stars_str = stars_str.strip()\n",
    "    if stars_str[-1] == 'k':\n",
    "        return int(float(stars_str[:-1])*1000)\n",
    "    return int(stars_str)"
   ]
  },
  {
   "cell_type": "code",
   "execution_count": 161,
   "id": "6d1a1be1",
   "metadata": {},
   "outputs": [
    {
     "data": {
      "text/plain": [
       "92200"
      ]
     },
     "execution_count": 161,
     "metadata": {},
     "output_type": "execute_result"
    }
   ],
   "source": [
    "parse_star_count(star_tags[0].text.strip())"
   ]
  },
  {
   "cell_type": "code",
   "execution_count": 163,
   "id": "f8ea9421",
   "metadata": {},
   "outputs": [
    {
     "data": {
      "text/plain": [
       "('pmndrs',\n",
       " 'react-three-fiber',\n",
       " 22700,\n",
       " 'https://github.com/pmndrs/react-three-fiber')"
      ]
     },
     "execution_count": 163,
     "metadata": {},
     "output_type": "execute_result"
    }
   ],
   "source": [
    "get_repo_info(repo_tags[1], star_tags[1])"
   ]
  },
  {
   "cell_type": "code",
   "execution_count": 238,
   "id": "f98ecdae",
   "metadata": {},
   "outputs": [],
   "source": [
    "def get_topic_page(topic_url):\n",
    "    response = requests.get(topic_url)\n",
    "    if response.status_code != 200:\n",
    "        raise Exception('Failed to load page {}'.format(topic_url))\n",
    "    topic_doc = BeautifulSoup(response.text, 'html.parser')\n",
    "    return topic_doc\n",
    "\n",
    "def get_repo_info(h1_tag, star_tag):\n",
    "    a_tags = h1_tag.find_all('a')\n",
    "    username = a_tags[0].text.strip()\n",
    "    repo_name = a_tags[1].text.strip()\n",
    "    repo_url = base_url + a_tags[1]['href']\n",
    "    stars = parse_star_count(star_tag.text.strip())\n",
    "    return username, repo_name, stars, repo_url\n",
    "\n",
    "def get_topic_repos(topic_doc):\n",
    "    h3_selection_class = \"f3 color-fg-muted text-normal lh-condensed\"\n",
    "    repo_tags = topic_doc.find_all('h3', {'class': h3_selection_class})\n",
    "    \n",
    "    a_tags = []\n",
    "    for i in range(len(repo_tags)):\n",
    "        a_tags.append(repo_tags[i].find_all('a'))\n",
    "        \n",
    "    topics_repo_dict = {\n",
    "    'username': [],\n",
    "    'repo_name': [],\n",
    "    'stars': [],\n",
    "    'repo_url': []\n",
    "    }\n",
    "    \n",
    "    for i in range(len(repo_tags)):\n",
    "        repo_info = get_repo_info(repo_tags[i],star_tags[i])\n",
    "        topics_repo_dict['username'].append(repo_info[0])\n",
    "        topics_repo_dict['repo_name'].append(repo_info[1])\n",
    "        topics_repo_dict['stars'].append(repo_info[2])\n",
    "        topics_repo_dict['repo_url'].append(repo_info[3]) \n",
    "        \n",
    "    return pd.DataFrame(topics_repo_dict)\n",
    "\n",
    "def scrape_topic(topic_url, topic_name):\n",
    "    topic_df = get_topic_repos(get_topic_page(topic_url))\n",
    "    topic_df.to_csv(topic_name+'.csv', index=None)"
   ]
  },
  {
   "cell_type": "code",
   "execution_count": 239,
   "id": "cc521434",
   "metadata": {},
   "outputs": [],
   "source": [
    "def get_topic_titles(doc):\n",
    "    selection_class = \"f3 lh-condensed mb-0 mt-1 Link--primary\"\n",
    "    topic_title_tags = doc.find_all('p', {'class': selection_class})\n",
    "    \n",
    "    topic_titles = []\n",
    "\n",
    "    for tag in topic_title_tags:\n",
    "        topic_titles.append(tag.text)\n",
    "\n",
    "    return topic_titles\n",
    "    \n",
    "def get_topic_desc(doc):\n",
    "    description_class = \"f5 color-fg-muted mb-0 mt-1\"\n",
    "    topic_desc_tags = doc.find_all('p', {'class': description_class})\n",
    "    \n",
    "    topic_descriptions = []\n",
    "\n",
    "    for tag in topic_desc_tags:\n",
    "        topic_descriptions.append(tag.text)\n",
    "    \n",
    "    return topic_descriptions\n",
    "    \n",
    "def get_topic_links(doc):\n",
    "    link_class = \"no-underline flex-1 d-flex flex-column\"\n",
    "    link_tags = doc.find_all('a', {'class': link_class})\n",
    "    \n",
    "    topic_urls = []\n",
    "    base_url = \"https://github.com\"\n",
    "\n",
    "    for tag in link_tags:\n",
    "        topic_urls.append(base_url+tag['href'])\n",
    "    \n",
    "    return topic_urls\n",
    "    \n",
    "def scrape_topics():\n",
    "    topics_url = 'https://github.com/topics'\n",
    "    response = requests.get(topics_url)\n",
    "    if response.status_code != 200:\n",
    "        raise Exception('Failed to load page {}'.format(topics_url))\n",
    "    topics_dict = {\n",
    "        'title': get_topic_titles(doc),\n",
    "        'description': get_topic_desc(doc),\n",
    "        'url': get_topic_links(doc)\n",
    "    }\n",
    "\n",
    "    return pd.DataFrame(topics_dict)\n",
    "\n",
    "def scrape_topics_repos():\n",
    "    print(\"Scraping Topic from Github\")\n",
    "    topics_df = scrape_topics()\n",
    "    for index, row in topics_df.iterrows():\n",
    "        print('Scraping Top Respositories for {}'.format(row['title']))\n",
    "        scrape_topic(row['url'], row['title'])\n",
    "    "
   ]
  },
  {
   "cell_type": "code",
   "execution_count": 240,
   "id": "31b58935",
   "metadata": {},
   "outputs": [
    {
     "name": "stdout",
     "output_type": "stream",
     "text": [
      "Scraping Topic from Github\n",
      "Scraping Top Respositories for 3D\n",
      "Scraping Top Respositories for Ajax\n",
      "Scraping Top Respositories for Algorithm\n",
      "Scraping Top Respositories for Amp\n",
      "Scraping Top Respositories for Android\n",
      "Scraping Top Respositories for Angular\n",
      "Scraping Top Respositories for Ansible\n",
      "Scraping Top Respositories for API\n",
      "Scraping Top Respositories for Arduino\n",
      "Scraping Top Respositories for ASP.NET\n",
      "Scraping Top Respositories for Atom\n",
      "Scraping Top Respositories for Awesome Lists\n",
      "Scraping Top Respositories for Amazon Web Services\n",
      "Scraping Top Respositories for Azure\n",
      "Scraping Top Respositories for Babel\n",
      "Scraping Top Respositories for Bash\n",
      "Scraping Top Respositories for Bitcoin\n",
      "Scraping Top Respositories for Bootstrap\n",
      "Scraping Top Respositories for Bot\n",
      "Scraping Top Respositories for C\n",
      "Scraping Top Respositories for Chrome\n",
      "Scraping Top Respositories for Chrome extension\n",
      "Scraping Top Respositories for Command line interface\n",
      "Scraping Top Respositories for Clojure\n",
      "Scraping Top Respositories for Code quality\n",
      "Scraping Top Respositories for Code review\n",
      "Scraping Top Respositories for Compiler\n",
      "Scraping Top Respositories for Continuous integration\n",
      "Scraping Top Respositories for COVID-19\n",
      "Scraping Top Respositories for C++\n"
     ]
    }
   ],
   "source": [
    "scrape_topics_repos()"
   ]
  },
  {
   "cell_type": "code",
   "execution_count": null,
   "id": "2e4ab1d7",
   "metadata": {},
   "outputs": [],
   "source": []
  },
  {
   "cell_type": "code",
   "execution_count": null,
   "id": "449012c4",
   "metadata": {},
   "outputs": [],
   "source": []
  }
 ],
 "metadata": {
  "celltoolbar": "Raw Cell Format",
  "kernelspec": {
   "display_name": "Python 3 (ipykernel)",
   "language": "python",
   "name": "python3"
  },
  "language_info": {
   "codemirror_mode": {
    "name": "ipython",
    "version": 3
   },
   "file_extension": ".py",
   "mimetype": "text/x-python",
   "name": "python",
   "nbconvert_exporter": "python",
   "pygments_lexer": "ipython3",
   "version": "3.10.10"
  }
 },
 "nbformat": 4,
 "nbformat_minor": 5
}
